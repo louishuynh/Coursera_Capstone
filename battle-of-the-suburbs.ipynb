{
 "cells": [
  {
   "cell_type": "markdown",
   "metadata": {},
   "source": [
    "# The BOTS (battle of the suburbs)"
   ]
  },
  {
   "cell_type": "markdown",
   "metadata": {},
   "source": [
    "## Introduction / Business Problem"
   ]
  },
  {
   "cell_type": "markdown",
   "metadata": {},
   "source": [
    "As a family who is looking to move to Sydney, Australia we want to find the right neighborhood to move into. Location location location is of key importance and currently living remotely makes it harder to do on the ground research. So we want to identify neighborhoods of interest on which to refine our search.\n",
    "\n",
    "One of the factors determining location is proximity to good schools (or restaurants). The purpose of this project is to identify neighborhoods that may be prime candidates for moving to based on the number of schools or establishments nearby. \n",
    "\n",
    "This could also be relevant to business developers who are looking to find neighborhoods that are prime candidates for developing high density residential housing.\n",
    "\n",
    "For our specific case, this is mainly a exploratory data analysis problem where we want to better understand the area and neighbourhoods to help us refine our search area. It may also be considered a clustering and / or recommendation system as an ideal solution may be to identify different clusters or zones of neighbourhoods and provide a list of recommendations as to which to investigate further. Our initial requirements are that the suburb should be not too far from the central business district, perhaps something like within 20-25 kilometers. It should be two or three bedroom home and additionally, we would want the median property price to not exceed 800,000 dollars. Of course these numbers may need to be revised based on what the market and data tells us..."
   ]
  },
  {
   "cell_type": "markdown",
   "metadata": {},
   "source": [
    "## Data"
   ]
  },
  {
   "cell_type": "markdown",
   "metadata": {},
   "source": [
    "### Initial Data - list of suburbs"
   ]
  },
  {
   "cell_type": "markdown",
   "metadata": {},
   "source": [
    "The data that we will use can be data obtained from Wikipedia in terms of identifying the list of suburbs. \n",
    "We can then supplement with FourSquare data to find the number of and different category of establishments near by. \n",
    "The identification of restuarants and schools can be used as a way to score two different addresses or neighbourhoods when comparing the attractiveness of their relative locations. Plenty of web data is available in terms of auction results including dwelling type, number of bedrooms, bathrooms, car spaces. From this we may also be able to identify different distinct clusters of neighborhood.\n"
   ]
  },
  {
   "cell_type": "markdown",
   "metadata": {},
   "source": [
    "As our starting data, we can scrape a list of suburbs from Wikipedia. Then this can be married with auction price data to get average sale prices and addresses of recent properties, which can then be used to identify proximity to the city, number of schools and number of restaurants. From this we can provide a recommeded list of suburbs as a short list from which to begin our property search!"
   ]
  },
  {
   "cell_type": "markdown",
   "metadata": {},
   "source": [
    "Wikipedia link: https://www.domain.com.au/2-125-euston-road-alexandria-nsw-2015-2016142954\n"
   ]
  },
  {
   "cell_type": "code",
   "execution_count": 1,
   "metadata": {},
   "outputs": [],
   "source": [
    "from bs4 import BeautifulSoup\n",
    "import pandas as pd\n",
    "import requests\n",
    "\n",
    "response = requests.get(r'https://en.wikipedia.org/wiki/List_of_Sydney_suburbs')\n",
    "soup = BeautifulSoup(response.text, 'html.parser')"
   ]
  },
  {
   "cell_type": "code",
   "execution_count": 2,
   "metadata": {},
   "outputs": [],
   "source": [
    "# Get suburbs of interest\n",
    "suburbs = []\n",
    "for tag in soup.findAll('a'):\n",
    "    if 'New South Wales' in str(tag):\n",
    "        suburb = tag.text\n",
    "        suburbs.append(suburb)"
   ]
  },
  {
   "cell_type": "code",
   "execution_count": 3,
   "metadata": {},
   "outputs": [],
   "source": [
    "# Keep unique list of suburbs\n",
    "suburbs = list(set(suburbs))\n",
    "suburbs.sort()"
   ]
  },
  {
   "cell_type": "code",
   "execution_count": 4,
   "metadata": {},
   "outputs": [
    {
     "name": "stdout",
     "output_type": "stream",
     "text": [
      "We start with a list of 693 suburbs\n"
     ]
    }
   ],
   "source": [
    "print(\"We start with a list of {} suburbs\".format(len(suburbs)))"
   ]
  },
  {
   "cell_type": "code",
   "execution_count": 5,
   "metadata": {},
   "outputs": [
    {
     "name": "stdout",
     "output_type": "stream",
     "text": [
      "Example entries: \n",
      "['Abbotsbury', 'Abbotsford', 'Acacia Gardens', 'Agnes Banks', 'Airds']\n"
     ]
    }
   ],
   "source": [
    "print(\"Example entries: \")\n",
    "print(suburbs[:5])"
   ]
  },
  {
   "cell_type": "markdown",
   "metadata": {},
   "source": [
    "Suburbs are geographical regions in Sydney that identify a neighbourhood. They tend to have different characteristics in terms of property supply and demand as well as property prices. We want to be able to reduce this list of 693 down to perhaps 10 or 20 recommended suburbs that meet other criteria as specified in the introduction and business problem."
   ]
  },
  {
   "cell_type": "markdown",
   "metadata": {},
   "source": [
    "### Auction Results - list of addresses"
   ]
  },
  {
   "cell_type": "markdown",
   "metadata": {},
   "source": [
    "We can get auction results from somewhere like Domain. We can obtain a list of addresses and from these addresses find out more about their location (distance to Sydney, number of restaurants and number of schools."
   ]
  },
  {
   "cell_type": "markdown",
   "metadata": {},
   "source": [
    "Sample link to Auction Results: https://www.domain.com.au/auction-results/sydney/2020-05-02"
   ]
  },
  {
   "cell_type": "markdown",
   "metadata": {},
   "source": [
    "From the summary page we get a list of auction results. Each of these results will have an address and further information such as number of beds, bathrooms and car spaces. We can use this information and query four square to determine the number of nearby schools or restaurants. "
   ]
  },
  {
   "cell_type": "markdown",
   "metadata": {},
   "source": [
    "Sample link to one specific auction property: https://www.domain.com.au/7-15-17-wyatt-avenue-burwood-nsw-2134-2016164763"
   ]
  },
  {
   "cell_type": "markdown",
   "metadata": {},
   "source": [
    "This is a townhouse that sold last week for \\$1.19 m and it's address is 7/15-17 Wyatt Avenue Burwood NSW 2134. \n",
    "\n",
    "In this specific instance that we take as an example we have the following data and this could potentially be scrapped to get it in bulk.\n",
    "\n",
    "SOLD - $1,190,000\n",
    "7/15-17 Wyatt Avenue Burwood NSW 2134\n",
    "\n",
    "3Beds\n",
    "1Bath\n",
    "1Parking\n",
    "234m²\n",
    "Townhouse"
   ]
  },
  {
   "cell_type": "markdown",
   "metadata": {},
   "source": [
    "### Four Square Data - list of restaurants and schools"
   ]
  },
  {
   "cell_type": "markdown",
   "metadata": {},
   "source": [
    "For each of the addresses of interest we can obtain the number of restaurant and schools nearby"
   ]
  },
  {
   "cell_type": "code",
   "execution_count": 6,
   "metadata": {},
   "outputs": [],
   "source": [
    "import os\n",
    "from geopy.geocoders import Nominatim # module to convert an address into latitude and longitude values"
   ]
  },
  {
   "cell_type": "code",
   "execution_count": 8,
   "metadata": {},
   "outputs": [],
   "source": [
    "# we store this in environment variables so that we do not need to save it in the notebook\n",
    "CLIENT_ID = os.environ['FOUR_SQUARE_CLIENT_ID'] # your Foursquare ID\n",
    "CLIENT_SECRET = os.environ['FOUR_SQUARE_CLIENT_SECRET'] # your Foursquare Secret"
   ]
  },
  {
   "cell_type": "code",
   "execution_count": 9,
   "metadata": {},
   "outputs": [
    {
     "name": "stdout",
     "output_type": "stream",
     "text": [
      "The latitude and longitude of this property is: -33.8846186, 151.1041647\n"
     ]
    }
   ],
   "source": [
    "address = '15-17 Wyatt Avenue Burwood NSW Australia'\n",
    "\n",
    "geolocator = Nominatim(user_agent=\"foursquare_agent\")\n",
    "location = geolocator.geocode(address)\n",
    "latitude = location.latitude\n",
    "longitude = location.longitude\n",
    "print(\"The latitude and longitude of this property is: {}, {}\".format(latitude, longitude))"
   ]
  },
  {
   "cell_type": "markdown",
   "metadata": {},
   "source": [
    "We can query the number of schools nearby to this location using the following"
   ]
  },
  {
   "cell_type": "code",
   "execution_count": 10,
   "metadata": {},
   "outputs": [],
   "source": [
    "def query_four_square(latitude, longitude, search_query = 'school', radius=1000):\n",
    "    # Italian etc\n",
    "    VERSION = '20180604'\n",
    "    LIMIT = 50\n",
    "    url = 'https://api.foursquare.com/v2/venues/search?client_id={}&client_secret={}&ll={},{}&v={}&query={}&radius={}&limit={}'.format(CLIENT_ID, CLIENT_SECRET, latitude, longitude, VERSION, search_query, radius, LIMIT)\n",
    "    results = requests.get(url).json()\n",
    "    print(results['meta'])\n",
    "    # assign relevant part of JSON to venues\n",
    "    venues = results['response']['venues']\n",
    "    print(\" There are {} {}s nearby.\".format(len(venues), search_query))\n",
    "    dataframe = pd.json_normalize(venues)\n",
    "    return dataframe"
   ]
  },
  {
   "cell_type": "code",
   "execution_count": 11,
   "metadata": {},
   "outputs": [
    {
     "name": "stdout",
     "output_type": "stream",
     "text": [
      "{'code': 200, 'requestId': '5eb5e8d70f5968001b60a3df'}\n",
      " There are 9 schools nearby.\n"
     ]
    },
    {
     "data": {
      "text/html": [
       "<div>\n",
       "<style scoped>\n",
       "    .dataframe tbody tr th:only-of-type {\n",
       "        vertical-align: middle;\n",
       "    }\n",
       "\n",
       "    .dataframe tbody tr th {\n",
       "        vertical-align: top;\n",
       "    }\n",
       "\n",
       "    .dataframe thead th {\n",
       "        text-align: right;\n",
       "    }\n",
       "</style>\n",
       "<table border=\"1\" class=\"dataframe\">\n",
       "  <thead>\n",
       "    <tr style=\"text-align: right;\">\n",
       "      <th></th>\n",
       "      <th>id</th>\n",
       "      <th>name</th>\n",
       "      <th>categories</th>\n",
       "      <th>referralId</th>\n",
       "      <th>hasPerk</th>\n",
       "      <th>location.address</th>\n",
       "      <th>location.lat</th>\n",
       "      <th>location.lng</th>\n",
       "      <th>location.labeledLatLngs</th>\n",
       "      <th>location.distance</th>\n",
       "      <th>location.cc</th>\n",
       "      <th>location.city</th>\n",
       "      <th>location.state</th>\n",
       "      <th>location.country</th>\n",
       "      <th>location.formattedAddress</th>\n",
       "      <th>location.postalCode</th>\n",
       "    </tr>\n",
       "  </thead>\n",
       "  <tbody>\n",
       "    <tr>\n",
       "      <th>0</th>\n",
       "      <td>4f2c6451e4b0ecad92f73a32</td>\n",
       "      <td>Dorothy Cowie School of Dancing</td>\n",
       "      <td>[{'id': '4bf58dd8d48988d13b941735', 'name': 'S...</td>\n",
       "      <td>v-1588980124</td>\n",
       "      <td>False</td>\n",
       "      <td>2a Fitzroy st</td>\n",
       "      <td>-33.883300</td>\n",
       "      <td>151.113920</td>\n",
       "      <td>[{'label': 'display', 'lat': -33.8833, 'lng': ...</td>\n",
       "      <td>913</td>\n",
       "      <td>AU</td>\n",
       "      <td>Croydon</td>\n",
       "      <td>NSW</td>\n",
       "      <td>Australia</td>\n",
       "      <td>[2a Fitzroy st, Croydon NSW, Australia]</td>\n",
       "      <td>NaN</td>\n",
       "    </tr>\n",
       "    <tr>\n",
       "      <th>1</th>\n",
       "      <td>4d8d01f3d00a6ea8a5f9974f</td>\n",
       "      <td>Enfield Public School</td>\n",
       "      <td>[{'id': '4f4533804b9074f6e4fb0105', 'name': 'E...</td>\n",
       "      <td>v-1588980124</td>\n",
       "      <td>False</td>\n",
       "      <td>NaN</td>\n",
       "      <td>-33.888375</td>\n",
       "      <td>151.094429</td>\n",
       "      <td>[{'label': 'display', 'lat': -33.8883749719673...</td>\n",
       "      <td>992</td>\n",
       "      <td>AU</td>\n",
       "      <td>NaN</td>\n",
       "      <td>NaN</td>\n",
       "      <td>Australia</td>\n",
       "      <td>[Australia]</td>\n",
       "      <td>NaN</td>\n",
       "    </tr>\n",
       "    <tr>\n",
       "      <th>2</th>\n",
       "      <td>4c6f1240b5a5236a00274c52</td>\n",
       "      <td>Burwood Public School</td>\n",
       "      <td>[{'id': '4bf58dd8d48988d1a8941735', 'name': 'G...</td>\n",
       "      <td>v-1588980124</td>\n",
       "      <td>False</td>\n",
       "      <td>5 Conder St</td>\n",
       "      <td>-33.877198</td>\n",
       "      <td>151.099403</td>\n",
       "      <td>[{'label': 'display', 'lat': -33.87719848, 'ln...</td>\n",
       "      <td>935</td>\n",
       "      <td>AU</td>\n",
       "      <td>Burwood</td>\n",
       "      <td>NSW</td>\n",
       "      <td>Australia</td>\n",
       "      <td>[5 Conder St, Burwood NSW 2134, Australia]</td>\n",
       "      <td>2134</td>\n",
       "    </tr>\n",
       "    <tr>\n",
       "      <th>3</th>\n",
       "      <td>4f5aafba7716361189f2f4f6</td>\n",
       "      <td>Australian School of Yoga</td>\n",
       "      <td>[{'id': '4bf58dd8d48988d102941735', 'name': 'Y...</td>\n",
       "      <td>v-1588980124</td>\n",
       "      <td>False</td>\n",
       "      <td>22 Church St</td>\n",
       "      <td>-33.881728</td>\n",
       "      <td>151.104369</td>\n",
       "      <td>[{'label': 'display', 'lat': -33.8817281571954...</td>\n",
       "      <td>322</td>\n",
       "      <td>AU</td>\n",
       "      <td>Burwood</td>\n",
       "      <td>NSW</td>\n",
       "      <td>Australia</td>\n",
       "      <td>[22 Church St, Burwood NSW 2134, Australia]</td>\n",
       "      <td>2134</td>\n",
       "    </tr>\n",
       "    <tr>\n",
       "      <th>4</th>\n",
       "      <td>505e6270e4b0f0e1a20e80dd</td>\n",
       "      <td>St. Vincent's Primary School</td>\n",
       "      <td>[{'id': '4f4533804b9074f6e4fb0105', 'name': 'E...</td>\n",
       "      <td>v-1588980124</td>\n",
       "      <td>False</td>\n",
       "      <td>Charlotte St</td>\n",
       "      <td>-33.888191</td>\n",
       "      <td>151.104018</td>\n",
       "      <td>[{'label': 'display', 'lat': -33.8881906047865...</td>\n",
       "      <td>397</td>\n",
       "      <td>AU</td>\n",
       "      <td>Ashfield</td>\n",
       "      <td>NSW</td>\n",
       "      <td>Australia</td>\n",
       "      <td>[Charlotte St, Ashfield NSW, Australia]</td>\n",
       "      <td>NaN</td>\n",
       "    </tr>\n",
       "  </tbody>\n",
       "</table>\n",
       "</div>"
      ],
      "text/plain": [
       "                         id                             name  \\\n",
       "0  4f2c6451e4b0ecad92f73a32  Dorothy Cowie School of Dancing   \n",
       "1  4d8d01f3d00a6ea8a5f9974f            Enfield Public School   \n",
       "2  4c6f1240b5a5236a00274c52            Burwood Public School   \n",
       "3  4f5aafba7716361189f2f4f6        Australian School of Yoga   \n",
       "4  505e6270e4b0f0e1a20e80dd     St. Vincent's Primary School   \n",
       "\n",
       "                                          categories    referralId  hasPerk  \\\n",
       "0  [{'id': '4bf58dd8d48988d13b941735', 'name': 'S...  v-1588980124    False   \n",
       "1  [{'id': '4f4533804b9074f6e4fb0105', 'name': 'E...  v-1588980124    False   \n",
       "2  [{'id': '4bf58dd8d48988d1a8941735', 'name': 'G...  v-1588980124    False   \n",
       "3  [{'id': '4bf58dd8d48988d102941735', 'name': 'Y...  v-1588980124    False   \n",
       "4  [{'id': '4f4533804b9074f6e4fb0105', 'name': 'E...  v-1588980124    False   \n",
       "\n",
       "  location.address  location.lat  location.lng  \\\n",
       "0    2a Fitzroy st    -33.883300    151.113920   \n",
       "1              NaN    -33.888375    151.094429   \n",
       "2      5 Conder St    -33.877198    151.099403   \n",
       "3     22 Church St    -33.881728    151.104369   \n",
       "4     Charlotte St    -33.888191    151.104018   \n",
       "\n",
       "                             location.labeledLatLngs  location.distance  \\\n",
       "0  [{'label': 'display', 'lat': -33.8833, 'lng': ...                913   \n",
       "1  [{'label': 'display', 'lat': -33.8883749719673...                992   \n",
       "2  [{'label': 'display', 'lat': -33.87719848, 'ln...                935   \n",
       "3  [{'label': 'display', 'lat': -33.8817281571954...                322   \n",
       "4  [{'label': 'display', 'lat': -33.8881906047865...                397   \n",
       "\n",
       "  location.cc location.city location.state location.country  \\\n",
       "0          AU       Croydon            NSW        Australia   \n",
       "1          AU           NaN            NaN        Australia   \n",
       "2          AU       Burwood            NSW        Australia   \n",
       "3          AU       Burwood            NSW        Australia   \n",
       "4          AU      Ashfield            NSW        Australia   \n",
       "\n",
       "                     location.formattedAddress location.postalCode  \n",
       "0      [2a Fitzroy st, Croydon NSW, Australia]                 NaN  \n",
       "1                                  [Australia]                 NaN  \n",
       "2   [5 Conder St, Burwood NSW 2134, Australia]                2134  \n",
       "3  [22 Church St, Burwood NSW 2134, Australia]                2134  \n",
       "4      [Charlotte St, Ashfield NSW, Australia]                 NaN  "
      ]
     },
     "execution_count": 11,
     "metadata": {},
     "output_type": "execute_result"
    }
   ],
   "source": [
    "df = query_four_square(latitude, longitude, 'school')\n",
    "df.head()"
   ]
  },
  {
   "cell_type": "code",
   "execution_count": 12,
   "metadata": {},
   "outputs": [
    {
     "name": "stdout",
     "output_type": "stream",
     "text": [
      "{'code': 200, 'requestId': '5eb5e9966001fe001b7a69bc'}\n",
      " There are 28 Restaurants nearby.\n"
     ]
    },
    {
     "data": {
      "text/html": [
       "<div>\n",
       "<style scoped>\n",
       "    .dataframe tbody tr th:only-of-type {\n",
       "        vertical-align: middle;\n",
       "    }\n",
       "\n",
       "    .dataframe tbody tr th {\n",
       "        vertical-align: top;\n",
       "    }\n",
       "\n",
       "    .dataframe thead th {\n",
       "        text-align: right;\n",
       "    }\n",
       "</style>\n",
       "<table border=\"1\" class=\"dataframe\">\n",
       "  <thead>\n",
       "    <tr style=\"text-align: right;\">\n",
       "      <th></th>\n",
       "      <th>id</th>\n",
       "      <th>name</th>\n",
       "      <th>categories</th>\n",
       "      <th>referralId</th>\n",
       "      <th>hasPerk</th>\n",
       "      <th>location.lat</th>\n",
       "      <th>location.lng</th>\n",
       "      <th>location.labeledLatLngs</th>\n",
       "      <th>location.distance</th>\n",
       "      <th>location.cc</th>\n",
       "      <th>location.country</th>\n",
       "      <th>location.formattedAddress</th>\n",
       "      <th>location.address</th>\n",
       "      <th>location.postalCode</th>\n",
       "      <th>location.city</th>\n",
       "      <th>location.state</th>\n",
       "    </tr>\n",
       "  </thead>\n",
       "  <tbody>\n",
       "    <tr>\n",
       "      <th>0</th>\n",
       "      <td>58c4938d5a5869779c78fbea</td>\n",
       "      <td>Royal Treasure Seafood Restaurant</td>\n",
       "      <td>[{'id': '52af3a7c3cf9994f4e043bed', 'name': 'C...</td>\n",
       "      <td>v-1588980126</td>\n",
       "      <td>False</td>\n",
       "      <td>-33.878113</td>\n",
       "      <td>151.102505</td>\n",
       "      <td>[{'label': 'display', 'lat': -33.8781133800789...</td>\n",
       "      <td>740</td>\n",
       "      <td>AU</td>\n",
       "      <td>Australia</td>\n",
       "      <td>[Australia]</td>\n",
       "      <td>NaN</td>\n",
       "      <td>NaN</td>\n",
       "      <td>NaN</td>\n",
       "      <td>NaN</td>\n",
       "    </tr>\n",
       "    <tr>\n",
       "      <th>1</th>\n",
       "      <td>5d7215d985b85b0008c62987</td>\n",
       "      <td>Apandim Uyghur Restaurant 阿凡提</td>\n",
       "      <td>[{'id': '52af3b913cf9994f4e043c06', 'name': 'X...</td>\n",
       "      <td>v-1588980126</td>\n",
       "      <td>False</td>\n",
       "      <td>-33.880350</td>\n",
       "      <td>151.103030</td>\n",
       "      <td>[{'label': 'display', 'lat': -33.88035, 'lng':...</td>\n",
       "      <td>486</td>\n",
       "      <td>AU</td>\n",
       "      <td>Australia</td>\n",
       "      <td>[189 Burwood Rd, Burwood NSW 2134, Australia]</td>\n",
       "      <td>189 Burwood Rd</td>\n",
       "      <td>2134</td>\n",
       "      <td>Burwood</td>\n",
       "      <td>NSW</td>\n",
       "    </tr>\n",
       "    <tr>\n",
       "      <th>2</th>\n",
       "      <td>5296f26f11d277dbb0e9c878</td>\n",
       "      <td>Hongyun Restaurant 鸿运食府</td>\n",
       "      <td>[{'id': '4bf58dd8d48988d145941735', 'name': 'C...</td>\n",
       "      <td>v-1588980126</td>\n",
       "      <td>False</td>\n",
       "      <td>-33.880300</td>\n",
       "      <td>151.103028</td>\n",
       "      <td>[{'label': 'display', 'lat': -33.8803002305661...</td>\n",
       "      <td>492</td>\n",
       "      <td>AU</td>\n",
       "      <td>Australia</td>\n",
       "      <td>[246 Burwood Road, Burwood NSW 2134, Australia]</td>\n",
       "      <td>246 Burwood Road</td>\n",
       "      <td>2134</td>\n",
       "      <td>Burwood</td>\n",
       "      <td>NSW</td>\n",
       "    </tr>\n",
       "    <tr>\n",
       "      <th>3</th>\n",
       "      <td>4dc3c69fb0fb5556ccc588db</td>\n",
       "      <td>Korean Restaurant</td>\n",
       "      <td>[{'id': '4bf58dd8d48988d113941735', 'name': 'K...</td>\n",
       "      <td>v-1588980126</td>\n",
       "      <td>False</td>\n",
       "      <td>-33.879252</td>\n",
       "      <td>151.103313</td>\n",
       "      <td>[{'label': 'display', 'lat': -33.8792518162078...</td>\n",
       "      <td>602</td>\n",
       "      <td>AU</td>\n",
       "      <td>Australia</td>\n",
       "      <td>[Burwood NSW, Australia]</td>\n",
       "      <td>NaN</td>\n",
       "      <td>NaN</td>\n",
       "      <td>Burwood</td>\n",
       "      <td>NSW</td>\n",
       "    </tr>\n",
       "    <tr>\n",
       "      <th>4</th>\n",
       "      <td>5240084c11d2ba03b61b9680</td>\n",
       "      <td>Chilli And Spicy Restaurant 一品湘</td>\n",
       "      <td>[{'id': '4bf58dd8d48988d145941735', 'name': 'C...</td>\n",
       "      <td>v-1588980126</td>\n",
       "      <td>False</td>\n",
       "      <td>-33.879216</td>\n",
       "      <td>151.103456</td>\n",
       "      <td>[{'label': 'display', 'lat': -33.879216, 'lng'...</td>\n",
       "      <td>604</td>\n",
       "      <td>AU</td>\n",
       "      <td>Australia</td>\n",
       "      <td>[175 Burwood Road, Burwood NSW 2134, Australia]</td>\n",
       "      <td>175 Burwood Road</td>\n",
       "      <td>2134</td>\n",
       "      <td>Burwood</td>\n",
       "      <td>NSW</td>\n",
       "    </tr>\n",
       "  </tbody>\n",
       "</table>\n",
       "</div>"
      ],
      "text/plain": [
       "                         id                               name  \\\n",
       "0  58c4938d5a5869779c78fbea  Royal Treasure Seafood Restaurant   \n",
       "1  5d7215d985b85b0008c62987      Apandim Uyghur Restaurant 阿凡提   \n",
       "2  5296f26f11d277dbb0e9c878            Hongyun Restaurant 鸿运食府   \n",
       "3  4dc3c69fb0fb5556ccc588db                  Korean Restaurant   \n",
       "4  5240084c11d2ba03b61b9680    Chilli And Spicy Restaurant 一品湘   \n",
       "\n",
       "                                          categories    referralId  hasPerk  \\\n",
       "0  [{'id': '52af3a7c3cf9994f4e043bed', 'name': 'C...  v-1588980126    False   \n",
       "1  [{'id': '52af3b913cf9994f4e043c06', 'name': 'X...  v-1588980126    False   \n",
       "2  [{'id': '4bf58dd8d48988d145941735', 'name': 'C...  v-1588980126    False   \n",
       "3  [{'id': '4bf58dd8d48988d113941735', 'name': 'K...  v-1588980126    False   \n",
       "4  [{'id': '4bf58dd8d48988d145941735', 'name': 'C...  v-1588980126    False   \n",
       "\n",
       "   location.lat  location.lng  \\\n",
       "0    -33.878113    151.102505   \n",
       "1    -33.880350    151.103030   \n",
       "2    -33.880300    151.103028   \n",
       "3    -33.879252    151.103313   \n",
       "4    -33.879216    151.103456   \n",
       "\n",
       "                             location.labeledLatLngs  location.distance  \\\n",
       "0  [{'label': 'display', 'lat': -33.8781133800789...                740   \n",
       "1  [{'label': 'display', 'lat': -33.88035, 'lng':...                486   \n",
       "2  [{'label': 'display', 'lat': -33.8803002305661...                492   \n",
       "3  [{'label': 'display', 'lat': -33.8792518162078...                602   \n",
       "4  [{'label': 'display', 'lat': -33.879216, 'lng'...                604   \n",
       "\n",
       "  location.cc location.country  \\\n",
       "0          AU        Australia   \n",
       "1          AU        Australia   \n",
       "2          AU        Australia   \n",
       "3          AU        Australia   \n",
       "4          AU        Australia   \n",
       "\n",
       "                         location.formattedAddress  location.address  \\\n",
       "0                                      [Australia]               NaN   \n",
       "1    [189 Burwood Rd, Burwood NSW 2134, Australia]    189 Burwood Rd   \n",
       "2  [246 Burwood Road, Burwood NSW 2134, Australia]  246 Burwood Road   \n",
       "3                         [Burwood NSW, Australia]               NaN   \n",
       "4  [175 Burwood Road, Burwood NSW 2134, Australia]  175 Burwood Road   \n",
       "\n",
       "  location.postalCode location.city location.state  \n",
       "0                 NaN           NaN            NaN  \n",
       "1                2134       Burwood            NSW  \n",
       "2                2134       Burwood            NSW  \n",
       "3                 NaN       Burwood            NSW  \n",
       "4                2134       Burwood            NSW  "
      ]
     },
     "execution_count": 12,
     "metadata": {},
     "output_type": "execute_result"
    }
   ],
   "source": [
    "df = query_four_square(latitude, longitude, 'Restaurant')\n",
    "df.head()"
   ]
  },
  {
   "cell_type": "markdown",
   "metadata": {},
   "source": [
    "This demonstrates the type of data we have (list of suburbs, list of addresses along with attributes and transaction prices. List of schools and restaurants nearby. Looking at the results make sense for one example property in that the results are also in the suburb of Burwood. We may need to do some EDA to determine the appropriate radius and supplement with further data in order to determine which schools / restaurants are good. Four square will also provide this data with premium accounts if needed."
   ]
  },
  {
   "cell_type": "code",
   "execution_count": null,
   "metadata": {},
   "outputs": [],
   "source": []
  }
 ],
 "metadata": {
  "kernelspec": {
   "display_name": "Python [conda env:py38]",
   "language": "python",
   "name": "conda-env-py38-py"
  },
  "language_info": {
   "codemirror_mode": {
    "name": "ipython",
    "version": 3
   },
   "file_extension": ".py",
   "mimetype": "text/x-python",
   "name": "python",
   "nbconvert_exporter": "python",
   "pygments_lexer": "ipython3",
   "version": "3.8.2"
  }
 },
 "nbformat": 4,
 "nbformat_minor": 4
}
